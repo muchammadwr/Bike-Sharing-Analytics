{
  "cells": [
    {
      "cell_type": "markdown",
      "metadata": {
        "id": "H9wADwK78DCz"
      },
      "source": [
        "# Bike Sharing Analytics"
      ]
    },
    {
      "cell_type": "markdown",
      "metadata": {
        "id": "eE0raob58DC0"
      },
      "source": [
        "## Task"
      ]
    },
    {
      "cell_type": "markdown",
      "metadata": {},
      "source": [
        "- Regression: \n",
        "\t\tPredication of bike rental count hourly or daily based on the environmental and seasonal settings.\n",
        "\t\n",
        "- Event and Anomaly Detection: Count of rented bikes are also correlated to some events in the town which easily are traceable via search engines. For instance, query like \"2012-10-30 washington d.c.\" in Google returns related results to Hurricane Sandy. Some of the important events are identified in [1]. Therefore the data can be used for validation of anomaly or event detection algorithms as well.\n",
        "\n",
        "[1] Fanaee-T, Hadi, and Gama, Joao, \"Event labeling combining ensemble detectors and background knowledge\", Progress in Artificial Intelligence (2013): pp. 1-15, Springer Berlin Heidelberg, doi:10.1007/s13748-013-0040-3.\n"
      ]
    },
    {
      "cell_type": "markdown",
      "metadata": {
        "id": "H-z4QGlO8DC1"
      },
      "source": [
        "## Library"
      ]
    },
    {
      "cell_type": "code",
      "execution_count": 1,
      "metadata": {
        "id": "FVYwaObI8DC1"
      },
      "outputs": [],
      "source": [
        "import numpy as np\n",
        "import pandas as pd\n",
        "import matplotlib.pyplot as plt\n",
        "import seaborn as sns\n",
        "import warnings\n",
        "warnings.filterwarnings(\"ignore\") "
      ]
    },
    {
      "cell_type": "markdown",
      "metadata": {
        "id": "h_Sh51Xy8DC1"
      },
      "source": [
        "## Data Wrangling"
      ]
    },
    {
      "cell_type": "markdown",
      "metadata": {
        "id": "sXU2GBYu8DC1"
      },
      "source": [
        "### Gathering Data"
      ]
    },
    {
      "cell_type": "code",
      "execution_count": 2,
      "metadata": {
        "id": "zjCBk1BI8DC1"
      },
      "outputs": [
        {
          "data": {
            "text/html": [
              "<div>\n",
              "<style scoped>\n",
              "    .dataframe tbody tr th:only-of-type {\n",
              "        vertical-align: middle;\n",
              "    }\n",
              "\n",
              "    .dataframe tbody tr th {\n",
              "        vertical-align: top;\n",
              "    }\n",
              "\n",
              "    .dataframe thead th {\n",
              "        text-align: right;\n",
              "    }\n",
              "</style>\n",
              "<table border=\"1\" class=\"dataframe\">\n",
              "  <thead>\n",
              "    <tr style=\"text-align: right;\">\n",
              "      <th></th>\n",
              "      <th>instant</th>\n",
              "      <th>dteday</th>\n",
              "      <th>season</th>\n",
              "      <th>yr</th>\n",
              "      <th>mnth</th>\n",
              "      <th>holiday</th>\n",
              "      <th>weekday</th>\n",
              "      <th>workingday</th>\n",
              "      <th>weathersit</th>\n",
              "      <th>temp</th>\n",
              "      <th>atemp</th>\n",
              "      <th>hum</th>\n",
              "      <th>windspeed</th>\n",
              "      <th>casual</th>\n",
              "      <th>registered</th>\n",
              "      <th>cnt</th>\n",
              "    </tr>\n",
              "  </thead>\n",
              "  <tbody>\n",
              "    <tr>\n",
              "      <th>0</th>\n",
              "      <td>1</td>\n",
              "      <td>2011-01-01</td>\n",
              "      <td>1</td>\n",
              "      <td>0</td>\n",
              "      <td>1</td>\n",
              "      <td>0</td>\n",
              "      <td>6</td>\n",
              "      <td>0</td>\n",
              "      <td>2</td>\n",
              "      <td>0.344167</td>\n",
              "      <td>0.363625</td>\n",
              "      <td>0.805833</td>\n",
              "      <td>0.160446</td>\n",
              "      <td>331</td>\n",
              "      <td>654</td>\n",
              "      <td>985</td>\n",
              "    </tr>\n",
              "    <tr>\n",
              "      <th>1</th>\n",
              "      <td>2</td>\n",
              "      <td>2011-01-02</td>\n",
              "      <td>1</td>\n",
              "      <td>0</td>\n",
              "      <td>1</td>\n",
              "      <td>0</td>\n",
              "      <td>0</td>\n",
              "      <td>0</td>\n",
              "      <td>2</td>\n",
              "      <td>0.363478</td>\n",
              "      <td>0.353739</td>\n",
              "      <td>0.696087</td>\n",
              "      <td>0.248539</td>\n",
              "      <td>131</td>\n",
              "      <td>670</td>\n",
              "      <td>801</td>\n",
              "    </tr>\n",
              "    <tr>\n",
              "      <th>2</th>\n",
              "      <td>3</td>\n",
              "      <td>2011-01-03</td>\n",
              "      <td>1</td>\n",
              "      <td>0</td>\n",
              "      <td>1</td>\n",
              "      <td>0</td>\n",
              "      <td>1</td>\n",
              "      <td>1</td>\n",
              "      <td>1</td>\n",
              "      <td>0.196364</td>\n",
              "      <td>0.189405</td>\n",
              "      <td>0.437273</td>\n",
              "      <td>0.248309</td>\n",
              "      <td>120</td>\n",
              "      <td>1229</td>\n",
              "      <td>1349</td>\n",
              "    </tr>\n",
              "    <tr>\n",
              "      <th>3</th>\n",
              "      <td>4</td>\n",
              "      <td>2011-01-04</td>\n",
              "      <td>1</td>\n",
              "      <td>0</td>\n",
              "      <td>1</td>\n",
              "      <td>0</td>\n",
              "      <td>2</td>\n",
              "      <td>1</td>\n",
              "      <td>1</td>\n",
              "      <td>0.200000</td>\n",
              "      <td>0.212122</td>\n",
              "      <td>0.590435</td>\n",
              "      <td>0.160296</td>\n",
              "      <td>108</td>\n",
              "      <td>1454</td>\n",
              "      <td>1562</td>\n",
              "    </tr>\n",
              "    <tr>\n",
              "      <th>4</th>\n",
              "      <td>5</td>\n",
              "      <td>2011-01-05</td>\n",
              "      <td>1</td>\n",
              "      <td>0</td>\n",
              "      <td>1</td>\n",
              "      <td>0</td>\n",
              "      <td>3</td>\n",
              "      <td>1</td>\n",
              "      <td>1</td>\n",
              "      <td>0.226957</td>\n",
              "      <td>0.229270</td>\n",
              "      <td>0.436957</td>\n",
              "      <td>0.186900</td>\n",
              "      <td>82</td>\n",
              "      <td>1518</td>\n",
              "      <td>1600</td>\n",
              "    </tr>\n",
              "  </tbody>\n",
              "</table>\n",
              "</div>"
            ],
            "text/plain": [
              "   instant      dteday  season  yr  mnth  holiday  weekday  workingday  \\\n",
              "0        1  2011-01-01       1   0     1        0        6           0   \n",
              "1        2  2011-01-02       1   0     1        0        0           0   \n",
              "2        3  2011-01-03       1   0     1        0        1           1   \n",
              "3        4  2011-01-04       1   0     1        0        2           1   \n",
              "4        5  2011-01-05       1   0     1        0        3           1   \n",
              "\n",
              "   weathersit      temp     atemp       hum  windspeed  casual  registered  \\\n",
              "0           2  0.344167  0.363625  0.805833   0.160446     331         654   \n",
              "1           2  0.363478  0.353739  0.696087   0.248539     131         670   \n",
              "2           1  0.196364  0.189405  0.437273   0.248309     120        1229   \n",
              "3           1  0.200000  0.212122  0.590435   0.160296     108        1454   \n",
              "4           1  0.226957  0.229270  0.436957   0.186900      82        1518   \n",
              "\n",
              "    cnt  \n",
              "0   985  \n",
              "1   801  \n",
              "2  1349  \n",
              "3  1562  \n",
              "4  1600  "
            ]
          },
          "execution_count": 2,
          "metadata": {},
          "output_type": "execute_result"
        }
      ],
      "source": [
        "# Load day data\n",
        "day_df = pd.read_csv('./data/day.csv')\n",
        "day_df.head()"
      ]
    },
    {
      "cell_type": "code",
      "execution_count": 9,
      "metadata": {},
      "outputs": [
        {
          "data": {
            "text/plain": [
              "Index(['instant', 'dteday', 'season', 'yr', 'mnth', 'holiday', 'weekday',\n",
              "       'workingday', 'weathersit', 'temp', 'atemp', 'hum', 'windspeed',\n",
              "       'casual', 'registered', 'cnt'],\n",
              "      dtype='object')"
            ]
          },
          "execution_count": 9,
          "metadata": {},
          "output_type": "execute_result"
        }
      ],
      "source": [
        "day_df.columns"
      ]
    },
    {
      "cell_type": "markdown",
      "metadata": {},
      "source": [
        "The dataset contains various columns, including:  \n",
        "- **instant**: Record index.  \n",
        "- **dteday**: Date of the record.  \n",
        "- **season**: The season in which the data was recorded (1: Spring, 2: Summer, 3: Fall, 4: Winter).  \n",
        "- **yr**: Year of the data (0: 2011, 1: 2012).  \n",
        "- **mnth**: Month of the year (1 to 12).  \n",
        "- **holiday**: Whether the day is a holiday (1: Yes, 0: No).  \n",
        "- **weekday**: Day of the week (0: Sunday, 6: Saturday).  \n",
        "- **workingday**: Whether the day is a working day (1: Yes, 0: No).  \n",
        "- **weathersit**: Weather situation (1: Clear, 2: Mist, 3: Light rain/snow, 4: Heavy rain/snow).  \n",
        "- **temp** : Normalized temperature in Celsius. The values are divided to 41 (max).\n",
        "- **atemp**: Normalized feeling temperature in Celsius. The values are divided to 50 (max).\n",
        "- **hum**: Normalized humidity. The values are divided to 100 (max).\n",
        "- **windspeed**: Normalized wind speed. The values are divided to 67 (max).\n",
        "- **casual**: Count of casual users.\n",
        "- **registered**: Count of registered users.\n",
        "- **cnt**: Count of total rental bikes including both casual and registered.\n",
        "\n",
        "By examining the first few rows, we can get an overview of the dataset before performing further analysis.  "
      ]
    },
    {
      "cell_type": "code",
      "execution_count": 3,
      "metadata": {},
      "outputs": [
        {
          "data": {
            "text/html": [
              "<div>\n",
              "<style scoped>\n",
              "    .dataframe tbody tr th:only-of-type {\n",
              "        vertical-align: middle;\n",
              "    }\n",
              "\n",
              "    .dataframe tbody tr th {\n",
              "        vertical-align: top;\n",
              "    }\n",
              "\n",
              "    .dataframe thead th {\n",
              "        text-align: right;\n",
              "    }\n",
              "</style>\n",
              "<table border=\"1\" class=\"dataframe\">\n",
              "  <thead>\n",
              "    <tr style=\"text-align: right;\">\n",
              "      <th></th>\n",
              "      <th>instant</th>\n",
              "      <th>dteday</th>\n",
              "      <th>season</th>\n",
              "      <th>yr</th>\n",
              "      <th>mnth</th>\n",
              "      <th>hr</th>\n",
              "      <th>holiday</th>\n",
              "      <th>weekday</th>\n",
              "      <th>workingday</th>\n",
              "      <th>weathersit</th>\n",
              "      <th>temp</th>\n",
              "      <th>atemp</th>\n",
              "      <th>hum</th>\n",
              "      <th>windspeed</th>\n",
              "      <th>casual</th>\n",
              "      <th>registered</th>\n",
              "      <th>cnt</th>\n",
              "    </tr>\n",
              "  </thead>\n",
              "  <tbody>\n",
              "    <tr>\n",
              "      <th>0</th>\n",
              "      <td>1</td>\n",
              "      <td>2011-01-01</td>\n",
              "      <td>1</td>\n",
              "      <td>0</td>\n",
              "      <td>1</td>\n",
              "      <td>0</td>\n",
              "      <td>0</td>\n",
              "      <td>6</td>\n",
              "      <td>0</td>\n",
              "      <td>1</td>\n",
              "      <td>0.24</td>\n",
              "      <td>0.2879</td>\n",
              "      <td>0.81</td>\n",
              "      <td>0.0</td>\n",
              "      <td>3</td>\n",
              "      <td>13</td>\n",
              "      <td>16</td>\n",
              "    </tr>\n",
              "    <tr>\n",
              "      <th>1</th>\n",
              "      <td>2</td>\n",
              "      <td>2011-01-01</td>\n",
              "      <td>1</td>\n",
              "      <td>0</td>\n",
              "      <td>1</td>\n",
              "      <td>1</td>\n",
              "      <td>0</td>\n",
              "      <td>6</td>\n",
              "      <td>0</td>\n",
              "      <td>1</td>\n",
              "      <td>0.22</td>\n",
              "      <td>0.2727</td>\n",
              "      <td>0.80</td>\n",
              "      <td>0.0</td>\n",
              "      <td>8</td>\n",
              "      <td>32</td>\n",
              "      <td>40</td>\n",
              "    </tr>\n",
              "    <tr>\n",
              "      <th>2</th>\n",
              "      <td>3</td>\n",
              "      <td>2011-01-01</td>\n",
              "      <td>1</td>\n",
              "      <td>0</td>\n",
              "      <td>1</td>\n",
              "      <td>2</td>\n",
              "      <td>0</td>\n",
              "      <td>6</td>\n",
              "      <td>0</td>\n",
              "      <td>1</td>\n",
              "      <td>0.22</td>\n",
              "      <td>0.2727</td>\n",
              "      <td>0.80</td>\n",
              "      <td>0.0</td>\n",
              "      <td>5</td>\n",
              "      <td>27</td>\n",
              "      <td>32</td>\n",
              "    </tr>\n",
              "    <tr>\n",
              "      <th>3</th>\n",
              "      <td>4</td>\n",
              "      <td>2011-01-01</td>\n",
              "      <td>1</td>\n",
              "      <td>0</td>\n",
              "      <td>1</td>\n",
              "      <td>3</td>\n",
              "      <td>0</td>\n",
              "      <td>6</td>\n",
              "      <td>0</td>\n",
              "      <td>1</td>\n",
              "      <td>0.24</td>\n",
              "      <td>0.2879</td>\n",
              "      <td>0.75</td>\n",
              "      <td>0.0</td>\n",
              "      <td>3</td>\n",
              "      <td>10</td>\n",
              "      <td>13</td>\n",
              "    </tr>\n",
              "    <tr>\n",
              "      <th>4</th>\n",
              "      <td>5</td>\n",
              "      <td>2011-01-01</td>\n",
              "      <td>1</td>\n",
              "      <td>0</td>\n",
              "      <td>1</td>\n",
              "      <td>4</td>\n",
              "      <td>0</td>\n",
              "      <td>6</td>\n",
              "      <td>0</td>\n",
              "      <td>1</td>\n",
              "      <td>0.24</td>\n",
              "      <td>0.2879</td>\n",
              "      <td>0.75</td>\n",
              "      <td>0.0</td>\n",
              "      <td>0</td>\n",
              "      <td>1</td>\n",
              "      <td>1</td>\n",
              "    </tr>\n",
              "  </tbody>\n",
              "</table>\n",
              "</div>"
            ],
            "text/plain": [
              "   instant      dteday  season  yr  mnth  hr  holiday  weekday  workingday  \\\n",
              "0        1  2011-01-01       1   0     1   0        0        6           0   \n",
              "1        2  2011-01-01       1   0     1   1        0        6           0   \n",
              "2        3  2011-01-01       1   0     1   2        0        6           0   \n",
              "3        4  2011-01-01       1   0     1   3        0        6           0   \n",
              "4        5  2011-01-01       1   0     1   4        0        6           0   \n",
              "\n",
              "   weathersit  temp   atemp   hum  windspeed  casual  registered  cnt  \n",
              "0           1  0.24  0.2879  0.81        0.0       3          13   16  \n",
              "1           1  0.22  0.2727  0.80        0.0       8          32   40  \n",
              "2           1  0.22  0.2727  0.80        0.0       5          27   32  \n",
              "3           1  0.24  0.2879  0.75        0.0       3          10   13  \n",
              "4           1  0.24  0.2879  0.75        0.0       0           1    1  "
            ]
          },
          "execution_count": 3,
          "metadata": {},
          "output_type": "execute_result"
        }
      ],
      "source": [
        "# Load hour data\n",
        "hour_df = pd.read_csv('./data/hour.csv')\n",
        "hour_df.head()"
      ]
    },
    {
      "cell_type": "markdown",
      "metadata": {},
      "source": [
        " This dataset contains similar features to the daily dataset (`day_df`), but with hourly records instead of daily aggregates. Some key columns include:  \n",
        "- **instant**: Unique identifier for each row.  \n",
        "- **dteday**: Date of the record.  \n",
        "- **hr**: Hour of the day (0 to 23).  \n",
        "- **season, yr, mnth, holiday, weekday, workingday, weathersit**: Similar to the daily dataset, representing seasonal and time-related information.  \n",
        "- **temp, atemp, hum, windspeed**: Weather-related features.  \n",
        "- **casual, registered, cnt**: Number of casual users, registered users, and total bike rentals for each hour.  \n",
        "\n",
        "Since this dataset provides a more granular view with hourly records, it allows for a deeper analysis of bike-sharing trends throughout the day.  "
      ]
    },
    {
      "cell_type": "markdown",
      "metadata": {
        "id": "FHSiqaZp8DC1"
      },
      "source": [
        "### Assessing Data"
      ]
    },
    {
      "cell_type": "markdown",
      "metadata": {},
      "source": [
        "#### Day data"
      ]
    },
    {
      "cell_type": "code",
      "execution_count": 5,
      "metadata": {
        "id": "ax-3tEjc9Cj1"
      },
      "outputs": [
        {
          "name": "stdout",
          "output_type": "stream",
          "text": [
            "<class 'pandas.core.frame.DataFrame'>\n",
            "RangeIndex: 731 entries, 0 to 730\n",
            "Data columns (total 16 columns):\n",
            " #   Column      Non-Null Count  Dtype  \n",
            "---  ------      --------------  -----  \n",
            " 0   instant     731 non-null    int64  \n",
            " 1   dteday      731 non-null    object \n",
            " 2   season      731 non-null    int64  \n",
            " 3   yr          731 non-null    int64  \n",
            " 4   mnth        731 non-null    int64  \n",
            " 5   holiday     731 non-null    int64  \n",
            " 6   weekday     731 non-null    int64  \n",
            " 7   workingday  731 non-null    int64  \n",
            " 8   weathersit  731 non-null    int64  \n",
            " 9   temp        731 non-null    float64\n",
            " 10  atemp       731 non-null    float64\n",
            " 11  hum         731 non-null    float64\n",
            " 12  windspeed   731 non-null    float64\n",
            " 13  casual      731 non-null    int64  \n",
            " 14  registered  731 non-null    int64  \n",
            " 15  cnt         731 non-null    int64  \n",
            "dtypes: float64(4), int64(11), object(1)\n",
            "memory usage: 91.5+ KB\n"
          ]
        }
      ],
      "source": [
        "# Day data information\n",
        "day_df.info()"
      ]
    },
    {
      "cell_type": "markdown",
      "metadata": {},
      "source": [
        "\n",
        "- The dataset contains **731 rows** and **16 columns**.  \n",
        "- All columns have **731 non-null values**, meaning there are **no missing values**.  \n",
        "- The dataset consists of different data types:  \n",
        "  - **Integer (`int64`)**: Used for categorical and count-based features such as `season`, `yr`, `mnth`, `holiday`, `weekday`, `workingday`, `weathersit`, `casual`, `registered`, and `cnt`.  \n",
        "  - **Float (`float64`)**: Used for continuous numerical values like `temp`, `atemp`, `hum`, and `windspeed`.  \n",
        "  - **Object (`object`)**: The `dteday` column, which represents dates in string format.  \n",
        "\n",
        "This information helps in preprocessing and deciding if any columns need transformation (e.g., converting `dteday` to a proper datetime format).  "
      ]
    },
    {
      "cell_type": "code",
      "execution_count": 6,
      "metadata": {},
      "outputs": [
        {
          "data": {
            "text/plain": [
              "0"
            ]
          },
          "execution_count": 6,
          "metadata": {},
          "output_type": "execute_result"
        }
      ],
      "source": [
        "# Check Duplicate the day data\n",
        "day_df.duplicated().sum()"
      ]
    },
    {
      "cell_type": "markdown",
      "metadata": {},
      "source": [
        "The output is **0**, which means there are no duplicate records in the dataset. This confirms that each row represents a unique entry, and no additional cleaning is required for duplicates.  "
      ]
    },
    {
      "cell_type": "code",
      "execution_count": 7,
      "metadata": {},
      "outputs": [
        {
          "data": {
            "text/plain": [
              "instant       0\n",
              "dteday        0\n",
              "season        0\n",
              "yr            0\n",
              "mnth          0\n",
              "holiday       0\n",
              "weekday       0\n",
              "workingday    0\n",
              "weathersit    0\n",
              "temp          0\n",
              "atemp         0\n",
              "hum           0\n",
              "windspeed     0\n",
              "casual        0\n",
              "registered    0\n",
              "cnt           0\n",
              "dtype: int64"
            ]
          },
          "execution_count": 7,
          "metadata": {},
          "output_type": "execute_result"
        }
      ],
      "source": [
        "# Check Missing Value the day data\n",
        "day_df.isna().sum()"
      ]
    },
    {
      "cell_type": "markdown",
      "metadata": {},
      "source": [
        "The output shows that **all columns have 0 missing values**, meaning the dataset is complete and does not require imputation or removal of missing data.  \n",
        "\n",
        "Since there are no missing values, we can proceed with the analysis without additional preprocessing for missing data.  "
      ]
    },
    {
      "cell_type": "code",
      "execution_count": 8,
      "metadata": {},
      "outputs": [
        {
          "data": {
            "text/html": [
              "<div>\n",
              "<style scoped>\n",
              "    .dataframe tbody tr th:only-of-type {\n",
              "        vertical-align: middle;\n",
              "    }\n",
              "\n",
              "    .dataframe tbody tr th {\n",
              "        vertical-align: top;\n",
              "    }\n",
              "\n",
              "    .dataframe thead th {\n",
              "        text-align: right;\n",
              "    }\n",
              "</style>\n",
              "<table border=\"1\" class=\"dataframe\">\n",
              "  <thead>\n",
              "    <tr style=\"text-align: right;\">\n",
              "      <th></th>\n",
              "      <th>instant</th>\n",
              "      <th>season</th>\n",
              "      <th>yr</th>\n",
              "      <th>mnth</th>\n",
              "      <th>holiday</th>\n",
              "      <th>weekday</th>\n",
              "      <th>workingday</th>\n",
              "      <th>weathersit</th>\n",
              "      <th>temp</th>\n",
              "      <th>atemp</th>\n",
              "      <th>hum</th>\n",
              "      <th>windspeed</th>\n",
              "      <th>casual</th>\n",
              "      <th>registered</th>\n",
              "      <th>cnt</th>\n",
              "    </tr>\n",
              "  </thead>\n",
              "  <tbody>\n",
              "    <tr>\n",
              "      <th>count</th>\n",
              "      <td>731.000000</td>\n",
              "      <td>731.000000</td>\n",
              "      <td>731.000000</td>\n",
              "      <td>731.000000</td>\n",
              "      <td>731.000000</td>\n",
              "      <td>731.000000</td>\n",
              "      <td>731.000000</td>\n",
              "      <td>731.000000</td>\n",
              "      <td>731.000000</td>\n",
              "      <td>731.000000</td>\n",
              "      <td>731.000000</td>\n",
              "      <td>731.000000</td>\n",
              "      <td>731.000000</td>\n",
              "      <td>731.000000</td>\n",
              "      <td>731.000000</td>\n",
              "    </tr>\n",
              "    <tr>\n",
              "      <th>mean</th>\n",
              "      <td>366.000000</td>\n",
              "      <td>2.496580</td>\n",
              "      <td>0.500684</td>\n",
              "      <td>6.519836</td>\n",
              "      <td>0.028728</td>\n",
              "      <td>2.997264</td>\n",
              "      <td>0.683995</td>\n",
              "      <td>1.395349</td>\n",
              "      <td>0.495385</td>\n",
              "      <td>0.474354</td>\n",
              "      <td>0.627894</td>\n",
              "      <td>0.190486</td>\n",
              "      <td>848.176471</td>\n",
              "      <td>3656.172367</td>\n",
              "      <td>4504.348837</td>\n",
              "    </tr>\n",
              "    <tr>\n",
              "      <th>std</th>\n",
              "      <td>211.165812</td>\n",
              "      <td>1.110807</td>\n",
              "      <td>0.500342</td>\n",
              "      <td>3.451913</td>\n",
              "      <td>0.167155</td>\n",
              "      <td>2.004787</td>\n",
              "      <td>0.465233</td>\n",
              "      <td>0.544894</td>\n",
              "      <td>0.183051</td>\n",
              "      <td>0.162961</td>\n",
              "      <td>0.142429</td>\n",
              "      <td>0.077498</td>\n",
              "      <td>686.622488</td>\n",
              "      <td>1560.256377</td>\n",
              "      <td>1937.211452</td>\n",
              "    </tr>\n",
              "    <tr>\n",
              "      <th>min</th>\n",
              "      <td>1.000000</td>\n",
              "      <td>1.000000</td>\n",
              "      <td>0.000000</td>\n",
              "      <td>1.000000</td>\n",
              "      <td>0.000000</td>\n",
              "      <td>0.000000</td>\n",
              "      <td>0.000000</td>\n",
              "      <td>1.000000</td>\n",
              "      <td>0.059130</td>\n",
              "      <td>0.079070</td>\n",
              "      <td>0.000000</td>\n",
              "      <td>0.022392</td>\n",
              "      <td>2.000000</td>\n",
              "      <td>20.000000</td>\n",
              "      <td>22.000000</td>\n",
              "    </tr>\n",
              "    <tr>\n",
              "      <th>25%</th>\n",
              "      <td>183.500000</td>\n",
              "      <td>2.000000</td>\n",
              "      <td>0.000000</td>\n",
              "      <td>4.000000</td>\n",
              "      <td>0.000000</td>\n",
              "      <td>1.000000</td>\n",
              "      <td>0.000000</td>\n",
              "      <td>1.000000</td>\n",
              "      <td>0.337083</td>\n",
              "      <td>0.337842</td>\n",
              "      <td>0.520000</td>\n",
              "      <td>0.134950</td>\n",
              "      <td>315.500000</td>\n",
              "      <td>2497.000000</td>\n",
              "      <td>3152.000000</td>\n",
              "    </tr>\n",
              "    <tr>\n",
              "      <th>50%</th>\n",
              "      <td>366.000000</td>\n",
              "      <td>3.000000</td>\n",
              "      <td>1.000000</td>\n",
              "      <td>7.000000</td>\n",
              "      <td>0.000000</td>\n",
              "      <td>3.000000</td>\n",
              "      <td>1.000000</td>\n",
              "      <td>1.000000</td>\n",
              "      <td>0.498333</td>\n",
              "      <td>0.486733</td>\n",
              "      <td>0.626667</td>\n",
              "      <td>0.180975</td>\n",
              "      <td>713.000000</td>\n",
              "      <td>3662.000000</td>\n",
              "      <td>4548.000000</td>\n",
              "    </tr>\n",
              "    <tr>\n",
              "      <th>75%</th>\n",
              "      <td>548.500000</td>\n",
              "      <td>3.000000</td>\n",
              "      <td>1.000000</td>\n",
              "      <td>10.000000</td>\n",
              "      <td>0.000000</td>\n",
              "      <td>5.000000</td>\n",
              "      <td>1.000000</td>\n",
              "      <td>2.000000</td>\n",
              "      <td>0.655417</td>\n",
              "      <td>0.608602</td>\n",
              "      <td>0.730209</td>\n",
              "      <td>0.233214</td>\n",
              "      <td>1096.000000</td>\n",
              "      <td>4776.500000</td>\n",
              "      <td>5956.000000</td>\n",
              "    </tr>\n",
              "    <tr>\n",
              "      <th>max</th>\n",
              "      <td>731.000000</td>\n",
              "      <td>4.000000</td>\n",
              "      <td>1.000000</td>\n",
              "      <td>12.000000</td>\n",
              "      <td>1.000000</td>\n",
              "      <td>6.000000</td>\n",
              "      <td>1.000000</td>\n",
              "      <td>3.000000</td>\n",
              "      <td>0.861667</td>\n",
              "      <td>0.840896</td>\n",
              "      <td>0.972500</td>\n",
              "      <td>0.507463</td>\n",
              "      <td>3410.000000</td>\n",
              "      <td>6946.000000</td>\n",
              "      <td>8714.000000</td>\n",
              "    </tr>\n",
              "  </tbody>\n",
              "</table>\n",
              "</div>"
            ],
            "text/plain": [
              "          instant      season          yr        mnth     holiday     weekday  \\\n",
              "count  731.000000  731.000000  731.000000  731.000000  731.000000  731.000000   \n",
              "mean   366.000000    2.496580    0.500684    6.519836    0.028728    2.997264   \n",
              "std    211.165812    1.110807    0.500342    3.451913    0.167155    2.004787   \n",
              "min      1.000000    1.000000    0.000000    1.000000    0.000000    0.000000   \n",
              "25%    183.500000    2.000000    0.000000    4.000000    0.000000    1.000000   \n",
              "50%    366.000000    3.000000    1.000000    7.000000    0.000000    3.000000   \n",
              "75%    548.500000    3.000000    1.000000   10.000000    0.000000    5.000000   \n",
              "max    731.000000    4.000000    1.000000   12.000000    1.000000    6.000000   \n",
              "\n",
              "       workingday  weathersit        temp       atemp         hum   windspeed  \\\n",
              "count  731.000000  731.000000  731.000000  731.000000  731.000000  731.000000   \n",
              "mean     0.683995    1.395349    0.495385    0.474354    0.627894    0.190486   \n",
              "std      0.465233    0.544894    0.183051    0.162961    0.142429    0.077498   \n",
              "min      0.000000    1.000000    0.059130    0.079070    0.000000    0.022392   \n",
              "25%      0.000000    1.000000    0.337083    0.337842    0.520000    0.134950   \n",
              "50%      1.000000    1.000000    0.498333    0.486733    0.626667    0.180975   \n",
              "75%      1.000000    2.000000    0.655417    0.608602    0.730209    0.233214   \n",
              "max      1.000000    3.000000    0.861667    0.840896    0.972500    0.507463   \n",
              "\n",
              "            casual   registered          cnt  \n",
              "count   731.000000   731.000000   731.000000  \n",
              "mean    848.176471  3656.172367  4504.348837  \n",
              "std     686.622488  1560.256377  1937.211452  \n",
              "min       2.000000    20.000000    22.000000  \n",
              "25%     315.500000  2497.000000  3152.000000  \n",
              "50%     713.000000  3662.000000  4548.000000  \n",
              "75%    1096.000000  4776.500000  5956.000000  \n",
              "max    3410.000000  6946.000000  8714.000000  "
            ]
          },
          "execution_count": 8,
          "metadata": {},
          "output_type": "execute_result"
        }
      ],
      "source": [
        "# The descriptive statistic from day data\n",
        "day_df.describe()"
      ]
    },
    {
      "cell_type": "markdown",
      "metadata": {},
      "source": [
        "To understand the overall distribution of numerical variables, we use the `.describe()` function. This provides key statistical summaries, including:  \n",
        "- **count**: Number of non-null values in each column.  \n",
        "- **mean**: Average value of each column.  \n",
        "- **std (standard deviation)**: Measures data dispersion from the mean.  \n",
        "- **min and max**: Minimum and maximum values.  \n",
        "- **25%, 50% (median), and 75%**: Quartiles, showing data distribution.  \n",
        "\n",
        "Key Observations:  \n",
        "- The dataset consists of **731 records**.  \n",
        "- The **average number of total bike rentals (`cnt`) is 4504**, with a **minimum of 22** and a **maximum of 8714**.  \n",
        "- The **temperature (`temp`) ranges from 0.06 to 0.86** (normalized values).  \n",
        "- The dataset is **balanced across years (`yr`)**, with values of `0` (2011) and `1` (2012).  \n",
        "- The **working day (`workingday`) and holiday (`holiday`) columns are binary**, indicating whether a day is a working day or holiday.  \n",
        "\n",
        "This summary helps in understanding the overall trends and potential data distributions before further analysis.  "
      ]
    },
    {
      "cell_type": "markdown",
      "metadata": {},
      "source": [
        "#### Hour data"
      ]
    },
    {
      "cell_type": "code",
      "execution_count": 10,
      "metadata": {},
      "outputs": [
        {
          "name": "stdout",
          "output_type": "stream",
          "text": [
            "<class 'pandas.core.frame.DataFrame'>\n",
            "RangeIndex: 17379 entries, 0 to 17378\n",
            "Data columns (total 17 columns):\n",
            " #   Column      Non-Null Count  Dtype  \n",
            "---  ------      --------------  -----  \n",
            " 0   instant     17379 non-null  int64  \n",
            " 1   dteday      17379 non-null  object \n",
            " 2   season      17379 non-null  int64  \n",
            " 3   yr          17379 non-null  int64  \n",
            " 4   mnth        17379 non-null  int64  \n",
            " 5   hr          17379 non-null  int64  \n",
            " 6   holiday     17379 non-null  int64  \n",
            " 7   weekday     17379 non-null  int64  \n",
            " 8   workingday  17379 non-null  int64  \n",
            " 9   weathersit  17379 non-null  int64  \n",
            " 10  temp        17379 non-null  float64\n",
            " 11  atemp       17379 non-null  float64\n",
            " 12  hum         17379 non-null  float64\n",
            " 13  windspeed   17379 non-null  float64\n",
            " 14  casual      17379 non-null  int64  \n",
            " 15  registered  17379 non-null  int64  \n",
            " 16  cnt         17379 non-null  int64  \n",
            "dtypes: float64(4), int64(12), object(1)\n",
            "memory usage: 2.3+ MB\n"
          ]
        }
      ],
      "source": [
        "# Hour data information\n",
        "hour_df.info()"
      ]
    },
    {
      "cell_type": "markdown",
      "metadata": {},
      "source": [
        "To understand the structure of the hourly dataset, we use the `.info()` function. This provides an overview of the dataset, including:  \n",
        "- **Total entries**: 17,379 rows.  \n",
        "- **Total columns**: 17 attributes.  \n",
        "- **Data types**:  \n",
        "  - `int64`: 12 columns (e.g., `season`, `yr`, `mnth`, `hr`, `holiday`, etc.).  \n",
        "  - `float64`: 4 columns (`temp`, `atemp`, `hum`, `windspeed`).  \n",
        "  - `object`: 1 column (`dteday`, representing dates).  \n",
        "- **Memory usage**: 2.3+ MB.  \n",
        "\n",
        "Key Observations:  \n",
        "- The dataset contains **hourly records of bike rentals** over two years.  \n",
        "- There are **no missing values** in any column, which simplifies data preprocessing.  \n",
        "- The `hr` column represents hours of the day (0-23), allowing for time-based analysis.  \n",
        "- `cnt` is the total number of rentals, obtained from the sum of `casual` and `registered` users.  \n",
        "\n",
        "This summary helps in understanding the dataset before performing further exploratory data analysis.  \n"
      ]
    },
    {
      "cell_type": "code",
      "execution_count": 12,
      "metadata": {},
      "outputs": [
        {
          "data": {
            "text/plain": [
              "0"
            ]
          },
          "execution_count": 12,
          "metadata": {},
          "output_type": "execute_result"
        }
      ],
      "source": [
        "# Check duplicate the hour data\n",
        "hour_df.duplicated().sum()"
      ]
    },
    {
      "cell_type": "markdown",
      "metadata": {},
      "source": [
        "The output is **0**, meaning there are **no duplicate entries** in the dataset. This confirms that each row represents a unique hourly record without redundancy.  "
      ]
    },
    {
      "cell_type": "code",
      "execution_count": 14,
      "metadata": {},
      "outputs": [
        {
          "data": {
            "text/plain": [
              "instant       0\n",
              "dteday        0\n",
              "season        0\n",
              "yr            0\n",
              "mnth          0\n",
              "hr            0\n",
              "holiday       0\n",
              "weekday       0\n",
              "workingday    0\n",
              "weathersit    0\n",
              "temp          0\n",
              "atemp         0\n",
              "hum           0\n",
              "windspeed     0\n",
              "casual        0\n",
              "registered    0\n",
              "cnt           0\n",
              "dtype: int64"
            ]
          },
          "execution_count": 14,
          "metadata": {},
          "output_type": "execute_result"
        }
      ],
      "source": [
        "# Check Missing Value the hour data\n",
        "hour_df.isnull().sum()"
      ]
    },
    {
      "cell_type": "markdown",
      "metadata": {},
      "source": [
        "The output shows **0 missing values** in all 17 columns. This means the dataset is **fully complete**, with no need for imputation or data cleaning related to missing values.  \n"
      ]
    },
    {
      "cell_type": "code",
      "execution_count": 21,
      "metadata": {},
      "outputs": [
        {
          "data": {
            "text/html": [
              "<div>\n",
              "<style scoped>\n",
              "    .dataframe tbody tr th:only-of-type {\n",
              "        vertical-align: middle;\n",
              "    }\n",
              "\n",
              "    .dataframe tbody tr th {\n",
              "        vertical-align: top;\n",
              "    }\n",
              "\n",
              "    .dataframe thead th {\n",
              "        text-align: right;\n",
              "    }\n",
              "</style>\n",
              "<table border=\"1\" class=\"dataframe\">\n",
              "  <thead>\n",
              "    <tr style=\"text-align: right;\">\n",
              "      <th></th>\n",
              "      <th>instant</th>\n",
              "      <th>season</th>\n",
              "      <th>yr</th>\n",
              "      <th>mnth</th>\n",
              "      <th>hr</th>\n",
              "      <th>holiday</th>\n",
              "      <th>weekday</th>\n",
              "      <th>workingday</th>\n",
              "      <th>weathersit</th>\n",
              "      <th>temp</th>\n",
              "      <th>atemp</th>\n",
              "      <th>hum</th>\n",
              "      <th>windspeed</th>\n",
              "      <th>casual</th>\n",
              "      <th>registered</th>\n",
              "      <th>cnt</th>\n",
              "    </tr>\n",
              "  </thead>\n",
              "  <tbody>\n",
              "    <tr>\n",
              "      <th>count</th>\n",
              "      <td>17379.00</td>\n",
              "      <td>17379.00</td>\n",
              "      <td>17379.0</td>\n",
              "      <td>17379.00</td>\n",
              "      <td>17379.00</td>\n",
              "      <td>17379.00</td>\n",
              "      <td>17379.00</td>\n",
              "      <td>17379.00</td>\n",
              "      <td>17379.00</td>\n",
              "      <td>17379.00</td>\n",
              "      <td>17379.00</td>\n",
              "      <td>17379.00</td>\n",
              "      <td>17379.00</td>\n",
              "      <td>17379.00</td>\n",
              "      <td>17379.00</td>\n",
              "      <td>17379.00</td>\n",
              "    </tr>\n",
              "    <tr>\n",
              "      <th>mean</th>\n",
              "      <td>8690.00</td>\n",
              "      <td>2.50</td>\n",
              "      <td>0.5</td>\n",
              "      <td>6.54</td>\n",
              "      <td>11.55</td>\n",
              "      <td>0.03</td>\n",
              "      <td>3.00</td>\n",
              "      <td>0.68</td>\n",
              "      <td>1.43</td>\n",
              "      <td>0.50</td>\n",
              "      <td>0.48</td>\n",
              "      <td>0.63</td>\n",
              "      <td>0.19</td>\n",
              "      <td>35.68</td>\n",
              "      <td>153.79</td>\n",
              "      <td>189.46</td>\n",
              "    </tr>\n",
              "    <tr>\n",
              "      <th>std</th>\n",
              "      <td>5017.03</td>\n",
              "      <td>1.11</td>\n",
              "      <td>0.5</td>\n",
              "      <td>3.44</td>\n",
              "      <td>6.91</td>\n",
              "      <td>0.17</td>\n",
              "      <td>2.01</td>\n",
              "      <td>0.47</td>\n",
              "      <td>0.64</td>\n",
              "      <td>0.19</td>\n",
              "      <td>0.17</td>\n",
              "      <td>0.19</td>\n",
              "      <td>0.12</td>\n",
              "      <td>49.31</td>\n",
              "      <td>151.36</td>\n",
              "      <td>181.39</td>\n",
              "    </tr>\n",
              "    <tr>\n",
              "      <th>min</th>\n",
              "      <td>1.00</td>\n",
              "      <td>1.00</td>\n",
              "      <td>0.0</td>\n",
              "      <td>1.00</td>\n",
              "      <td>0.00</td>\n",
              "      <td>0.00</td>\n",
              "      <td>0.00</td>\n",
              "      <td>0.00</td>\n",
              "      <td>1.00</td>\n",
              "      <td>0.02</td>\n",
              "      <td>0.00</td>\n",
              "      <td>0.00</td>\n",
              "      <td>0.00</td>\n",
              "      <td>0.00</td>\n",
              "      <td>0.00</td>\n",
              "      <td>1.00</td>\n",
              "    </tr>\n",
              "    <tr>\n",
              "      <th>25%</th>\n",
              "      <td>4345.50</td>\n",
              "      <td>2.00</td>\n",
              "      <td>0.0</td>\n",
              "      <td>4.00</td>\n",
              "      <td>6.00</td>\n",
              "      <td>0.00</td>\n",
              "      <td>1.00</td>\n",
              "      <td>0.00</td>\n",
              "      <td>1.00</td>\n",
              "      <td>0.34</td>\n",
              "      <td>0.33</td>\n",
              "      <td>0.48</td>\n",
              "      <td>0.10</td>\n",
              "      <td>4.00</td>\n",
              "      <td>34.00</td>\n",
              "      <td>40.00</td>\n",
              "    </tr>\n",
              "    <tr>\n",
              "      <th>50%</th>\n",
              "      <td>8690.00</td>\n",
              "      <td>3.00</td>\n",
              "      <td>1.0</td>\n",
              "      <td>7.00</td>\n",
              "      <td>12.00</td>\n",
              "      <td>0.00</td>\n",
              "      <td>3.00</td>\n",
              "      <td>1.00</td>\n",
              "      <td>1.00</td>\n",
              "      <td>0.50</td>\n",
              "      <td>0.48</td>\n",
              "      <td>0.63</td>\n",
              "      <td>0.19</td>\n",
              "      <td>17.00</td>\n",
              "      <td>115.00</td>\n",
              "      <td>142.00</td>\n",
              "    </tr>\n",
              "    <tr>\n",
              "      <th>75%</th>\n",
              "      <td>13034.50</td>\n",
              "      <td>3.00</td>\n",
              "      <td>1.0</td>\n",
              "      <td>10.00</td>\n",
              "      <td>18.00</td>\n",
              "      <td>0.00</td>\n",
              "      <td>5.00</td>\n",
              "      <td>1.00</td>\n",
              "      <td>2.00</td>\n",
              "      <td>0.66</td>\n",
              "      <td>0.62</td>\n",
              "      <td>0.78</td>\n",
              "      <td>0.25</td>\n",
              "      <td>48.00</td>\n",
              "      <td>220.00</td>\n",
              "      <td>281.00</td>\n",
              "    </tr>\n",
              "    <tr>\n",
              "      <th>max</th>\n",
              "      <td>17379.00</td>\n",
              "      <td>4.00</td>\n",
              "      <td>1.0</td>\n",
              "      <td>12.00</td>\n",
              "      <td>23.00</td>\n",
              "      <td>1.00</td>\n",
              "      <td>6.00</td>\n",
              "      <td>1.00</td>\n",
              "      <td>4.00</td>\n",
              "      <td>1.00</td>\n",
              "      <td>1.00</td>\n",
              "      <td>1.00</td>\n",
              "      <td>0.85</td>\n",
              "      <td>367.00</td>\n",
              "      <td>886.00</td>\n",
              "      <td>977.00</td>\n",
              "    </tr>\n",
              "  </tbody>\n",
              "</table>\n",
              "</div>"
            ],
            "text/plain": [
              "        instant    season       yr      mnth        hr   holiday   weekday  \\\n",
              "count  17379.00  17379.00  17379.0  17379.00  17379.00  17379.00  17379.00   \n",
              "mean    8690.00      2.50      0.5      6.54     11.55      0.03      3.00   \n",
              "std     5017.03      1.11      0.5      3.44      6.91      0.17      2.01   \n",
              "min        1.00      1.00      0.0      1.00      0.00      0.00      0.00   \n",
              "25%     4345.50      2.00      0.0      4.00      6.00      0.00      1.00   \n",
              "50%     8690.00      3.00      1.0      7.00     12.00      0.00      3.00   \n",
              "75%    13034.50      3.00      1.0     10.00     18.00      0.00      5.00   \n",
              "max    17379.00      4.00      1.0     12.00     23.00      1.00      6.00   \n",
              "\n",
              "       workingday  weathersit      temp     atemp       hum  windspeed  \\\n",
              "count    17379.00    17379.00  17379.00  17379.00  17379.00   17379.00   \n",
              "mean         0.68        1.43      0.50      0.48      0.63       0.19   \n",
              "std          0.47        0.64      0.19      0.17      0.19       0.12   \n",
              "min          0.00        1.00      0.02      0.00      0.00       0.00   \n",
              "25%          0.00        1.00      0.34      0.33      0.48       0.10   \n",
              "50%          1.00        1.00      0.50      0.48      0.63       0.19   \n",
              "75%          1.00        2.00      0.66      0.62      0.78       0.25   \n",
              "max          1.00        4.00      1.00      1.00      1.00       0.85   \n",
              "\n",
              "         casual  registered       cnt  \n",
              "count  17379.00    17379.00  17379.00  \n",
              "mean      35.68      153.79    189.46  \n",
              "std       49.31      151.36    181.39  \n",
              "min        0.00        0.00      1.00  \n",
              "25%        4.00       34.00     40.00  \n",
              "50%       17.00      115.00    142.00  \n",
              "75%       48.00      220.00    281.00  \n",
              "max      367.00      886.00    977.00  "
            ]
          },
          "execution_count": 21,
          "metadata": {},
          "output_type": "execute_result"
        }
      ],
      "source": [
        "# The descriptive statistic from day data\n",
        "hour_df.describe().round(2)"
      ]
    },
    {
      "cell_type": "markdown",
      "metadata": {},
      "source": [
        "To understand the distribution of numerical features, we use the `.describe().round(2)` function. This provides key statistical summaries, including count, mean, standard deviation, min, max, and quartiles.  \n",
        "\n",
        "Key Observations:  \n",
        "- **Total Entries**: 17,379 rows.  \n",
        "- **Hourly Distribution** (`hr`): The values range from **0 to 23**, covering all hours in a day.  \n",
        "- **Temperature (`temp`) & Feels-Like Temperature (`atemp`)**:  \n",
        "  - `temp` (Normalized between 0 and 1) has a **mean of 0.50**, suggesting an even spread over different weather conditions.  \n",
        "  - `atemp` follows a similar distribution with a mean of **0.48**.  \n",
        "- **Humidity (`hum`) & Wind Speed (`windspeed`)**:  \n",
        "  - Humidity ranges from **0 to 1**, with a mean of **0.63**.  \n",
        "  - Wind speed has an average of **0.19**, indicating most days experience mild winds.  \n",
        "- **Bike Rentals (`cnt`)**:  \n",
        "  - The total count (`cnt`) ranges from **1 to 977** per hour.  \n",
        "  - Median rentals per hour is **142**, while the upper quartile reaches **281**, indicating some peak hours with high demand.  \n",
        "  - `casual` riders (mean **35.68**) are significantly fewer than `registered` riders (mean **153.79**), suggesting that most users are registered members.  \n",
        "\n",
        "Conclusion:  \n",
        "This statistical summary provides insight into the distribution and variability of bike rentals across different hours, weather conditions, and user types. These insights will guide further analysis and model building.  "
      ]
    },
    {
      "cell_type": "markdown",
      "metadata": {
        "id": "EhN5R4hr8DC1"
      },
      "source": [
        "### Cleaning Data"
      ]
    },
    {
      "cell_type": "code",
      "execution_count": null,
      "metadata": {},
      "outputs": [],
      "source": [
        "# Drop column when is not using\n",
        "day_df.drop(['workingday'], axis=1, inplace=True)\n",
        "hour_df.drop(['workingday'], axis=1, inplace=True)"
      ]
    },
    {
      "cell_type": "code",
      "execution_count": null,
      "metadata": {},
      "outputs": [],
      "source": [
        "# Change data type int to categorical \n",
        "columns = ['season', 'mnth', 'holiday', 'weekday', 'weathersit']\n",
        "for column in columns:\n",
        "    day_df[column] = day_df[column].astype('category')\n",
        "    hour_df[column] = hour_df[column].astype('category')"
      ]
    },
    {
      "cell_type": "code",
      "execution_count": null,
      "metadata": {},
      "outputs": [],
      "source": [
        "# Change data type object to datetime\n",
        "day_df['dteday'] = pd.to_datetime(day_df['dteday'])\n",
        "hour_df['dteday'] = pd.to_datetime(hour_df['dteday'])"
      ]
    },
    {
      "cell_type": "code",
      "execution_count": null,
      "metadata": {},
      "outputs": [],
      "source": [
        "# Check Again\n",
        "print(f'df_day[\"dteday\"]: {day_df['dteday'].dtypes}')\n",
        "print(f'df_hour[\"dteday\"]: {hour_df['dteday'].dtypes}')"
      ]
    },
    {
      "cell_type": "code",
      "execution_count": null,
      "metadata": {},
      "outputs": [],
      "source": [
        "# Change column name from day data\n",
        "day_df.rename(columns={\n",
        "    'yr':'year',\n",
        "    'mnth':'month',\n",
        "    'weekday':'one_of_week',\n",
        "    'weathersit':'weather_situation',\n",
        "    'windspeed':'wind_speed',\n",
        "    'cnt':'count_cr',\n",
        "    'hum':'humidity'\n",
        "},inplace=True)"
      ]
    },
    {
      "cell_type": "code",
      "execution_count": null,
      "metadata": {},
      "outputs": [],
      "source": [
        "# Change column name from hour data\n",
        "\n",
        "hour_df.rename(columns={\n",
        "    'yr':'year',\n",
        "    'hr':'hours',\n",
        "    'mnth':'month',\n",
        "    'weekday':'one_of_week', \n",
        "    'weathersit':'weather_situation',\n",
        "    'windspeed':'wind_speed',\n",
        "    'cnt':'count_cr',\n",
        "    'hum':'humidity'\n",
        "},inplace=True)\n"
      ]
    },
    {
      "cell_type": "code",
      "execution_count": null,
      "metadata": {},
      "outputs": [],
      "source": [
        "# Convert season to be categorical\n",
        "season_mapping = {\n",
        "    1: 'Spring', \n",
        "    2: 'Summer', \n",
        "    3: 'Fall', \n",
        "    4: 'Winter'\n",
        "}\n",
        "\n",
        "day_df['season'] = day_df['season'].map(season_mapping)\n",
        "hour_df['season'] = hour_df['season'].map(season_mapping)\n"
      ]
    },
    {
      "cell_type": "code",
      "execution_count": null,
      "metadata": {},
      "outputs": [],
      "source": [
        "# Convert month to be categorical\n",
        "month_mapping = {\n",
        "    1: 'Jan', 2: 'Feb', 3: 'Mar', 4: 'Apr', 5: 'May', 6: 'Jun',\n",
        "    7: 'Jul', 8: 'Aug', 9: 'Sep', 10: 'Oct', 11: 'Nov', 12: 'Dec'\n",
        "}\n",
        "day_df['month'] = day_df['month'].map(month_mapping)\n",
        "hour_df['month'] = hour_df['month'].map(month_mapping)"
      ]
    },
    {
      "cell_type": "code",
      "execution_count": null,
      "metadata": {},
      "outputs": [],
      "source": [
        "# Convert weather_situation to be categorical \n",
        "weather_situation_mapping = {\n",
        "    1:'Clear', \n",
        "    2:'Misty', \n",
        "    3:'Light_RainSnow', \n",
        "    4:'Heavy_RainSnow'\n",
        "}\n",
        "day_df['weather_situation'] = day_df['weather_situation'].map(weather_situation_mapping)\n",
        "hour_df['weather_situation'] = hour_df['weather_situation'].map(weather_situation_mapping)"
      ]
    },
    {
      "cell_type": "code",
      "execution_count": null,
      "metadata": {},
      "outputs": [],
      "source": [
        "# Convert one_of_week to be categorical\n",
        "one_of_week_mapping = {\n",
        "    0: 'Sunday', \n",
        "    1: 'Monday', \n",
        "    2: 'Tuesday', \n",
        "    3: 'Wednesday', \n",
        "    4: 'Thursday', \n",
        "    5: 'Friday', \n",
        "    6: 'Saturday'\n",
        "}\n",
        "\n",
        "day_df['one_of_week'] = day_df['one_of_week'].map(one_of_week_mapping)\n",
        "hour_df['one_of_week'] = hour_df['one_of_week'].map(one_of_week_mapping)"
      ]
    },
    {
      "cell_type": "code",
      "execution_count": null,
      "metadata": {},
      "outputs": [],
      "source": [
        "# Convert year \n",
        "year_mapping = {\n",
        "    0: 2011,\n",
        "    1: 2012\n",
        "}\n",
        "hour_df['year'] = hour_df['year'].map(year_mapping)\n",
        "day_df['year'] = day_df['year'].map(year_mapping)"
      ]
    },
    {
      "cell_type": "code",
      "execution_count": null,
      "metadata": {},
      "outputs": [],
      "source": [
        "# Count Humidity\n",
        "day_df['humidity'] = day_df['humidity']*100\n",
        "hour_df['humidity'] = hour_df['humidity']*100"
      ]
    },
    {
      "cell_type": "markdown",
      "metadata": {},
      "source": [
        "Make a new column with name days_category when show a column value weekend or weekdays"
      ]
    },
    {
      "cell_type": "code",
      "execution_count": null,
      "metadata": {},
      "outputs": [],
      "source": [
        "# Membuat kolom baru bernama category_days yang menunjukan isi kolom tersebut weekend atau weekdays\n",
        "one_of_week = [\n",
        "    \"Monday\", \n",
        "    \"Tuesday\", \n",
        "    \"Wednesday\", \n",
        "    \"Thursday\", \n",
        "    \"Friday\", \n",
        "    \"Saturday\", \n",
        "    \"Sunday\"\n",
        "]\n",
        "def category_days(one_of_week):\n",
        "    if one_of_week in [\"Saturday\", \"Sunday\"]:\n",
        "        return \"weekend\"\n",
        "    else: \n",
        "        return \"weekdays\"\n",
        "\n",
        "hour_df[\"category_days\"] = hour_df[\"one_of_week\"].apply(category_days)\n",
        "day_df[\"category_days\"] = day_df[\"one_of_week\"].apply(category_days)"
      ]
    },
    {
      "cell_type": "code",
      "execution_count": null,
      "metadata": {},
      "outputs": [],
      "source": [
        "def classify_humadity(humadity):\n",
        "    if humadity < 45:\n",
        "        return \"Dry\"\n",
        "    elif humadity >= 45 and humadity < 65:\n",
        "        return \"Normal\"\n",
        "    else:\n",
        "        return \"Humid\"\n",
        "hour_df['humidity_category'] = hour_df['humidity'].apply(classify_humadity) \n",
        "day_df['humidity_category'] = day_df['humidity'].apply(classify_humadity)"
      ]
    },
    {
      "cell_type": "code",
      "execution_count": null,
      "metadata": {},
      "outputs": [],
      "source": [
        "# Check again\n",
        "hour_df.head()"
      ]
    },
    {
      "cell_type": "code",
      "execution_count": null,
      "metadata": {},
      "outputs": [],
      "source": [
        "day_df.head()"
      ]
    },
    {
      "cell_type": "markdown",
      "metadata": {
        "id": "gp-Y6wU38DC1"
      },
      "source": [
        "## Exploratory Data Analysis (EDA)"
      ]
    },
    {
      "cell_type": "markdown",
      "metadata": {
        "id": "MW7WF2kr8DC1"
      },
      "source": [
        "### Explore Hour Data"
      ]
    },
    {
      "cell_type": "code",
      "execution_count": null,
      "metadata": {
        "id": "e9CQCZjk8DC2"
      },
      "outputs": [],
      "source": [
        "hour_df.describe(include='all').round(2)"
      ]
    },
    {
      "cell_type": "code",
      "execution_count": null,
      "metadata": {},
      "outputs": [],
      "source": [
        "# Rental by hour\n",
        "penyewaan_by_jam = hour_df.groupby(by=\"hours\").agg({\n",
        "    \"count_cr\": [\"sum\"]\n",
        "})\n",
        "\n",
        "penyewaan_by_jam.head()"
      ]
    },
    {
      "cell_type": "markdown",
      "metadata": {},
      "source": [
        "### Explore Day Data"
      ]
    },
    {
      "cell_type": "code",
      "execution_count": null,
      "metadata": {},
      "outputs": [],
      "source": [
        "day_df.describe(include='all').round(2)"
      ]
    },
    {
      "cell_type": "code",
      "execution_count": null,
      "metadata": {},
      "outputs": [],
      "source": [
        "# Show total of rental by season\n",
        "day_df.groupby(by=\"season\").count_cr.sum().sort_values(ascending=False).reset_index()\n"
      ]
    },
    {
      "cell_type": "code",
      "execution_count": null,
      "metadata": {},
      "outputs": [],
      "source": [
        "# show total rental of each year based on registered dan casual \n",
        "day_df.groupby(by=\"year\").agg({\n",
        "    \"registered\": [\"sum\"],\n",
        "    \"casual\": [\"sum\"]\n",
        "})"
      ]
    },
    {
      "cell_type": "markdown",
      "metadata": {},
      "source": [
        "##### "
      ]
    },
    {
      "cell_type": "markdown",
      "metadata": {
        "id": "zsyZjqak8DC2"
      },
      "source": [
        "## Visualization & Explanatory Analysis"
      ]
    },
    {
      "cell_type": "markdown",
      "metadata": {
        "id": "HZxOiQ6n8DC2"
      },
      "source": [
        "### Question 1: What are the most and least frequently rented hours?"
      ]
    },
    {
      "cell_type": "code",
      "execution_count": null,
      "metadata": {
        "id": "1swJUdAD8DC2"
      },
      "outputs": [],
      "source": [
        "sum_order = hour_df.groupby(\"hours\").count_cr.sum().sort_values(ascending=False).reset_index()\n",
        "\n",
        "fig, ax = plt.subplots(nrows=1, ncols=2, figsize=(30, 15))\n",
        "sns.barplot(\n",
        "    x=\"hours\", \n",
        "    y=\"count_cr\", \n",
        "    data=sum_order.head(5), \n",
        "    ax=ax[0],\n",
        "    color='#ff9999'\n",
        ")\n",
        "\n",
        "ax[0].set_ylabel(None)\n",
        "ax[0].set_xlabel(\"Hours (PM)\", fontsize=30)\n",
        "ax[0].set_title(\"Hours with lots of bike renters\", loc=\"center\", fontsize=30)\n",
        "ax[0].tick_params(axis='y', labelsize=35)\n",
        "ax[0].tick_params(axis='x', labelsize=30)\n",
        "\n",
        "sns.barplot(\n",
        "    x=\"hours\", \n",
        "    y=\"count_cr\", \n",
        "    data=sum_order.sort_values(\n",
        "        by=\"hours\", \n",
        "        ascending=True\n",
        "    ).head(5), \n",
        "    ax=ax[1],\n",
        "    color='#ff9999'\n",
        ")\n",
        "\n",
        "ax[1].set_ylabel(None)\n",
        "ax[1].set_xlabel(\"Hours (AM)\",  fontsize=30)\n",
        "ax[1].set_title(\"Hours with few bike renters\", loc=\"center\", fontsize=30)\n",
        "ax[1].invert_xaxis()\n",
        "ax[1].yaxis.set_label_position(\"right\")\n",
        "ax[1].yaxis.tick_right()\n",
        "ax[1].tick_params(axis='y', labelsize=35)\n",
        "ax[1].tick_params(axis='x', labelsize=30)\n",
        "\n",
        "plt.show()\n"
      ]
    },
    {
      "cell_type": "markdown",
      "metadata": {
        "id": "DgHI7CiU8DC2"
      },
      "source": [
        "### Question 2: In what season is bike rental peak?"
      ]
    },
    {
      "cell_type": "code",
      "execution_count": null,
      "metadata": {
        "id": "Go0lCsvO8DC2"
      },
      "outputs": [],
      "source": [
        "fig, ax = plt.subplots(figsize=(10, 5))\n",
        "\n",
        "sns.barplot(\n",
        "    y=\"count_cr\",\n",
        "    x=\"season\",\n",
        "    data= day_df.sort_values(\n",
        "        by=\"season\",\n",
        "        ascending=False\n",
        "    ),\n",
        "    ax=ax,\n",
        "    errorbar=None,\n",
        "    color='#ff9999'\n",
        ")\n",
        "\n",
        "ax.set_title(\"Inter-seasonal Chart\", loc=\"center\", fontsize=16)\n",
        "ax.set_ylabel(None)\n",
        "ax.set_xlabel(None)\n",
        "ax.tick_params(axis='x', labelsize=12)\n",
        "ax.tick_params(axis='y', labelsize=12)\n",
        "\n",
        "plt.show()"
      ]
    },
    {
      "cell_type": "markdown",
      "metadata": {},
      "source": [
        "### Question 3: How has the company's sales performance been in recent years?"
      ]
    },
    {
      "cell_type": "code",
      "execution_count": null,
      "metadata": {},
      "outputs": [],
      "source": [
        "plt.figure(figsize=(25,5))\n",
        "\n",
        "monthly_ct = day_df['count_cr'].groupby(day_df['dteday']).max()\n",
        "\n",
        "plt.scatter(\n",
        "    monthly_ct.index,\n",
        "    monthly_ct.values,\n",
        "    marker='o',\n",
        "    color='#ff9999',\n",
        "    s=10\n",
        ")\n",
        "plt.plot(monthly_ct.index,monthly_ct.values)\n",
        "plt.xlabel('Bulan')\n",
        "plt.ylabel('Number')\n",
        "plt.title('Number of Customers per Month in 2012')\n",
        "\n",
        "plt.show()"
      ]
    },
    {
      "cell_type": "markdown",
      "metadata": {},
      "source": [
        "### Question 4: How do registered customers compare to casual customers?"
      ]
    },
    {
      "cell_type": "code",
      "execution_count": null,
      "metadata": {},
      "outputs": [],
      "source": [
        "casual_total = sum(day_df['casual'])\n",
        "total_regiter = sum(day_df['registered'])\n",
        "data = [total_regiter, casual_total]\n",
        "labels = [\"Registered\", \"Casual\"]\n",
        "myexplode = [0, 0.1]\n",
        "colors = [ '#66b3ff', '#ff9999']\n",
        "\n",
        "plt.pie(data, labels=labels, autopct='%1.1f%%', colors=colors, explode=myexplode)\n",
        "plt.show()"
      ]
    },
    {
      "cell_type": "markdown",
      "metadata": {
        "id": "_WeHlCeX8DC2"
      },
      "source": [
        "## Conclusion"
      ]
    },
    {
      "cell_type": "markdown",
      "metadata": {
        "id": "ZTcyR48Y8DC2"
      },
      "source": [
        "- **Question 1:** What are the most and least frequently rented hours?\n",
        "- **Question 2:** In what season is bike rental peak?\n",
        "- **Question 3:** How has the company's sales performance been in recent years?\n",
        "- **Question 4:** How do registered customers compare to casual customers?"
      ]
    },
    {
      "cell_type": "markdown",
      "metadata": {},
      "source": [
        "**Conclution pertanyaan 1:** Based on the image above, you can see that bike rentals are most used at 17:00. In contrast, rentals at 04:00 are the least sold products.\n",
        "\n",
        "**conclution pertanyaan 2:** in the Fall season.\n",
        "\n",
        "**conclution pertanyaan 3:** \n",
        "Based on the visualization above, we can see that the highest number of orders occured in September 2012,\n",
        "we can also see significant decrease in the number of orders in January 2011\n",
        "\n",
        "**conclution pertanyaan 4:** Those who have registered 81.2%, while those who have not registered (casual) are 18.8% "
      ]
    }
  ],
  "metadata": {
    "colab": {
      "provenance": []
    },
    "kernelspec": {
      "display_name": "base",
      "language": "python",
      "name": "python3"
    },
    "language_info": {
      "codemirror_mode": {
        "name": "ipython",
        "version": 3
      },
      "file_extension": ".py",
      "mimetype": "text/x-python",
      "name": "python",
      "nbconvert_exporter": "python",
      "pygments_lexer": "ipython3",
      "version": "3.12.9"
    },
    "orig_nbformat": 4
  },
  "nbformat": 4,
  "nbformat_minor": 0
}
